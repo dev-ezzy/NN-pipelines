{
 "cells": [
  {
   "cell_type": "markdown",
   "metadata": {},
   "source": [
    "# Neural Networks in a glimpse"
   ]
  },
  {
   "cell_type": "code",
   "execution_count": 21,
   "metadata": {},
   "outputs": [],
   "source": [
    "from tensorflow.keras.models import Sequential\n",
    "from tensorflow.keras.layers import Dense, Dropout\n",
    "from tensorflow.keras.optimizers import Adam\n",
    "from sklearn.preprocessing import StandardScaler\n",
    "from sklearn.model_selection import train_test_split\n",
    "from sklearn.pipeline import Pipeline\n",
    "import numpy as np\n",
    "\n",
    "# Generate random input data (features)\n",
    "samples = 1000\n",
    "input_shape = 10  # Number of features\n",
    "X = np.random.rand(samples, input_shape)  # Replace with your actual data\n",
    "\n",
    "# Generate random labels (output/target)\n",
    "num_classes = 5  # Number of classes or categories\n",
    "y = np.random.randint(num_classes, size=(samples,))\n",
    "\n",
    "# Check the shape of the generated tensors\n",
    "print(f\"Input shape: {X_train.shape}\")\n",
    "print(f\"Output shape: {y_train.shape}\")\n",
    "\n",
    "X_train, y_train, X_test, y_test = train_test_split(X, y, random_state= 42, test_size= 0.3)\n",
    "\n",
    "\n",
    "# Define the data preprocessing steps\n",
    "preprocessor = Pipeline([\n",
    "    ('scaler', StandardScaler()),\n",
    "    # Add more preprocessing steps if needed\n",
    "])\n",
    "\n",
    "# Define the neural network model\n",
    "model = Sequential([\n",
    "    Dense(64, activation='relu', input_shape=(1000,)),\n",
    "    Dropout(0.2),\n",
    "    Dense(32, activation='relu'),\n",
    "    Dropout(0.2),\n",
    "    Dense(10, activation='softmax')\n",
    "])\n",
    "\n",
    "# Compile the model\n",
    "model.compile(optimizer=Adam(), loss='categorical_crossentropy', metrics=['accuracy'])\n",
    "\n",
    "# Fit the data after preprocessing\n",
    "X_train_processed = preprocessor.fit_transform(X_train)\n",
    "X_val_processed = preprocessor.transform(X_test).reshape(-1, 1)\n",
    "\n",
    "model.fit( X_train_processed, y_train, epochs=10, batch_size=32, validation_data=(X_val_processed, y_test))\n"
   ]
  },
  {
   "cell_type": "code",
   "execution_count": null,
   "metadata": {},
   "outputs": [],
   "source": []
  }
 ],
 "metadata": {
  "language_info": {
   "name": "python"
  }
 },
 "nbformat": 4,
 "nbformat_minor": 2
}
