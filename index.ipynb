{
 "cells": [
  {
   "cell_type": "markdown",
   "metadata": {},
   "source": [
    "# Neural Networks in a glimpse"
   ]
  },
  {
   "cell_type": "code",
   "execution_count": 20,
   "metadata": {},
   "outputs": [
    {
     "name": "stdout",
     "output_type": "stream",
     "text": [
      "Input shape: (700, 10)\n",
      "Output shape: (300, 10)\n"
     ]
    },
    {
     "ename": "ValueError",
     "evalue": "Expected 2D array, got 1D array instead:\narray=[2. 1. 2. 3. 3. 4. 2. 4. 1. 1. 4. 1. 2. 4. 4. 1. 2. 2. 2. 1. 0. 2. 3. 2.\n 0. 3. 0. 2. 1. 0. 2. 2. 1. 1. 0. 4. 3. 2. 0. 3. 4. 3. 0. 2. 4. 4. 3. 0.\n 4. 3. 0. 2. 3. 4. 4. 4. 2. 2. 4. 2. 4. 1. 2. 3. 2. 4. 1. 4. 4. 1. 3. 2.\n 4. 0. 3. 2. 2. 2. 0. 2. 3. 3. 1. 2. 0. 2. 2. 3. 1. 4. 4. 3. 3. 0. 3. 2.\n 0. 3. 4. 1. 3. 3. 1. 0. 0. 4. 3. 2. 1. 3. 3. 0. 2. 1. 2. 0. 0. 4. 1. 4.\n 2. 2. 3. 0. 4. 3. 4. 0. 4. 4. 0. 4. 0. 4. 0. 3. 3. 0. 0. 0. 4. 4. 3. 2.\n 2. 2. 0. 1. 0. 3. 0. 1. 2. 0. 2. 4. 0. 0. 1. 0. 3. 0. 0. 2. 1. 3. 2. 0.\n 0. 1. 2. 0. 1. 2. 4. 4. 3. 4. 0. 1. 2. 4. 0. 0. 2. 1. 4. 4. 1. 0. 3. 4.\n 0. 2. 2. 0. 0. 0. 0. 4. 3. 4. 4. 4. 1. 4. 1. 3. 1. 0. 3. 1. 4. 4. 4. 1.\n 3. 3. 0. 2. 2. 4. 1. 3. 3. 1. 4. 0. 2. 1. 1. 0. 4. 4. 3. 4. 4. 3. 0. 4.\n 4. 0. 3. 3. 3. 3. 4. 0. 1. 4. 2. 4. 0. 0. 3. 3. 1. 1. 1. 4. 4. 4. 0. 2.\n 4. 2. 3. 1. 2. 3. 1. 3. 3. 2. 1. 3. 2. 0. 0. 3. 2. 4. 2. 0. 3. 0. 0. 4.\n 0. 0. 0. 0. 1. 1. 1. 3. 1. 4. 3. 4. 0. 4. 2. 2. 0. 1. 3. 3. 4. 2. 4. 4.\n 1. 4. 4. 0. 0. 3. 2. 4. 1. 3. 3. 2. 1. 1. 1. 0. 1. 4. 2. 0. 0. 2. 4. 2.\n 0. 1. 0. 2. 3. 2. 2. 2. 1. 3. 2. 2. 4. 2. 3. 4. 3. 3. 4. 1. 0. 2. 3. 1.\n 3. 3. 4. 1. 4. 1. 0. 3. 0. 4. 1. 0. 2. 3. 0. 3. 0. 2. 1. 2. 4. 1. 3. 1.\n 3. 4. 0. 3. 0. 3. 3. 0. 4. 0. 3. 3. 3. 2. 4. 2. 2. 2. 3. 0. 1. 3. 2. 1.\n 1. 2. 4. 4. 4. 4. 2. 4. 3. 4. 0. 1. 2. 4. 4. 3. 0. 2. 1. 3. 2. 0. 4. 1.\n 3. 3. 2. 1. 0. 2. 2. 4. 4. 3. 1. 2. 1. 3. 3. 1. 3. 1. 0. 4. 3. 0. 3. 3.\n 0. 4. 4. 3. 2. 4. 3. 0. 3. 2. 3. 2. 4. 1. 3. 0. 1. 3. 3. 4. 0. 1. 2. 4.\n 3. 2. 2. 2. 3. 2. 1. 0. 1. 4. 1. 0. 1. 2. 2. 0. 0. 0. 4. 2. 2. 1. 2. 4.\n 4. 1. 3. 2. 0. 1. 3. 2. 0. 4. 4. 3. 3. 1. 4. 3. 0. 2. 2. 2. 4. 0. 4. 4.\n 2. 2. 3. 2. 0. 2. 2. 3. 2. 2. 4. 4. 0. 4. 4. 1. 3. 1. 3. 3. 4. 2. 2. 2.\n 2. 4. 3. 2. 0. 2. 4. 3. 3. 2. 1. 0. 3. 0. 3. 2. 0. 0. 3. 4. 4. 2. 1. 1.\n 4. 0. 4. 1. 2. 3. 3. 0. 3. 0. 2. 4. 0. 4. 4. 2. 1. 2. 3. 4. 1. 0. 3. 3.\n 0. 4. 0. 3. 1. 3. 1. 2. 2. 4. 2. 2. 1. 1. 0. 4. 4. 0. 0. 4. 0. 3. 3. 0.\n 3. 2. 2. 0. 3. 0. 2. 2. 1. 2. 2. 3. 2. 4. 3. 3. 1. 0. 0. 4. 1. 2. 0. 0.\n 3. 3. 0. 0. 3. 4. 4. 1. 2. 2. 4. 0. 1. 2. 1. 0. 3. 3. 0. 3. 3. 1. 0. 0.\n 1. 2. 2. 0. 2. 3. 2. 3. 4. 4. 3. 4. 4. 2. 0. 1. 2. 2. 3. 1. 1. 4. 0. 1.\n 4. 2. 2. 3.].\nReshape your data either using array.reshape(-1, 1) if your data has a single feature or array.reshape(1, -1) if it contains a single sample.",
     "output_type": "error",
     "traceback": [
      "\u001b[0;31m---------------------------------------------------------------------------\u001b[0m",
      "\u001b[0;31mValueError\u001b[0m                                Traceback (most recent call last)",
      "Cell \u001b[0;32mIn[20], line 45\u001b[0m\n\u001b[1;32m     43\u001b[0m \u001b[38;5;66;03m# Fit the data after preprocessing\u001b[39;00m\n\u001b[1;32m     44\u001b[0m X_train_processed \u001b[38;5;241m=\u001b[39m preprocessor\u001b[38;5;241m.\u001b[39mfit_transform(X_train)\n\u001b[0;32m---> 45\u001b[0m X_val_processed \u001b[38;5;241m=\u001b[39m \u001b[43mpreprocessor\u001b[49m\u001b[38;5;241;43m.\u001b[39;49m\u001b[43mtransform\u001b[49m\u001b[43m(\u001b[49m\u001b[43mX_test\u001b[49m\u001b[43m)\u001b[49m\u001b[38;5;241m.\u001b[39mreshape(\u001b[38;5;241m-\u001b[39m\u001b[38;5;241m1\u001b[39m, \u001b[38;5;241m1\u001b[39m)\n\u001b[1;32m     47\u001b[0m model\u001b[38;5;241m.\u001b[39mfit( X_train_processed, y_train, epochs\u001b[38;5;241m=\u001b[39m\u001b[38;5;241m10\u001b[39m, batch_size\u001b[38;5;241m=\u001b[39m\u001b[38;5;241m32\u001b[39m, validation_data\u001b[38;5;241m=\u001b[39m(X_val_processed, y_test))\n",
      "File \u001b[0;32m~/.local/lib/python3.10/site-packages/sklearn/pipeline.py:696\u001b[0m, in \u001b[0;36mPipeline.transform\u001b[0;34m(self, X)\u001b[0m\n\u001b[1;32m    694\u001b[0m Xt \u001b[38;5;241m=\u001b[39m X\n\u001b[1;32m    695\u001b[0m \u001b[38;5;28;01mfor\u001b[39;00m _, _, transform \u001b[38;5;129;01min\u001b[39;00m \u001b[38;5;28mself\u001b[39m\u001b[38;5;241m.\u001b[39m_iter():\n\u001b[0;32m--> 696\u001b[0m     Xt \u001b[38;5;241m=\u001b[39m \u001b[43mtransform\u001b[49m\u001b[38;5;241;43m.\u001b[39;49m\u001b[43mtransform\u001b[49m\u001b[43m(\u001b[49m\u001b[43mXt\u001b[49m\u001b[43m)\u001b[49m\n\u001b[1;32m    697\u001b[0m \u001b[38;5;28;01mreturn\u001b[39;00m Xt\n",
      "File \u001b[0;32m~/.local/lib/python3.10/site-packages/sklearn/utils/_set_output.py:157\u001b[0m, in \u001b[0;36m_wrap_method_output.<locals>.wrapped\u001b[0;34m(self, X, *args, **kwargs)\u001b[0m\n\u001b[1;32m    155\u001b[0m \u001b[38;5;129m@wraps\u001b[39m(f)\n\u001b[1;32m    156\u001b[0m \u001b[38;5;28;01mdef\u001b[39;00m \u001b[38;5;21mwrapped\u001b[39m(\u001b[38;5;28mself\u001b[39m, X, \u001b[38;5;241m*\u001b[39margs, \u001b[38;5;241m*\u001b[39m\u001b[38;5;241m*\u001b[39mkwargs):\n\u001b[0;32m--> 157\u001b[0m     data_to_wrap \u001b[38;5;241m=\u001b[39m \u001b[43mf\u001b[49m\u001b[43m(\u001b[49m\u001b[38;5;28;43mself\u001b[39;49m\u001b[43m,\u001b[49m\u001b[43m \u001b[49m\u001b[43mX\u001b[49m\u001b[43m,\u001b[49m\u001b[43m \u001b[49m\u001b[38;5;241;43m*\u001b[39;49m\u001b[43margs\u001b[49m\u001b[43m,\u001b[49m\u001b[43m \u001b[49m\u001b[38;5;241;43m*\u001b[39;49m\u001b[38;5;241;43m*\u001b[39;49m\u001b[43mkwargs\u001b[49m\u001b[43m)\u001b[49m\n\u001b[1;32m    158\u001b[0m     \u001b[38;5;28;01mif\u001b[39;00m \u001b[38;5;28misinstance\u001b[39m(data_to_wrap, \u001b[38;5;28mtuple\u001b[39m):\n\u001b[1;32m    159\u001b[0m         \u001b[38;5;66;03m# only wrap the first output for cross decomposition\u001b[39;00m\n\u001b[1;32m    160\u001b[0m         return_tuple \u001b[38;5;241m=\u001b[39m (\n\u001b[1;32m    161\u001b[0m             _wrap_data_with_container(method, data_to_wrap[\u001b[38;5;241m0\u001b[39m], X, \u001b[38;5;28mself\u001b[39m),\n\u001b[1;32m    162\u001b[0m             \u001b[38;5;241m*\u001b[39mdata_to_wrap[\u001b[38;5;241m1\u001b[39m:],\n\u001b[1;32m    163\u001b[0m         )\n",
      "File \u001b[0;32m~/.local/lib/python3.10/site-packages/sklearn/preprocessing/_data.py:1006\u001b[0m, in \u001b[0;36mStandardScaler.transform\u001b[0;34m(self, X, copy)\u001b[0m\n\u001b[1;32m   1003\u001b[0m check_is_fitted(\u001b[38;5;28mself\u001b[39m)\n\u001b[1;32m   1005\u001b[0m copy \u001b[38;5;241m=\u001b[39m copy \u001b[38;5;28;01mif\u001b[39;00m copy \u001b[38;5;129;01mis\u001b[39;00m \u001b[38;5;129;01mnot\u001b[39;00m \u001b[38;5;28;01mNone\u001b[39;00m \u001b[38;5;28;01melse\u001b[39;00m \u001b[38;5;28mself\u001b[39m\u001b[38;5;241m.\u001b[39mcopy\n\u001b[0;32m-> 1006\u001b[0m X \u001b[38;5;241m=\u001b[39m \u001b[38;5;28;43mself\u001b[39;49m\u001b[38;5;241;43m.\u001b[39;49m\u001b[43m_validate_data\u001b[49m\u001b[43m(\u001b[49m\n\u001b[1;32m   1007\u001b[0m \u001b[43m    \u001b[49m\u001b[43mX\u001b[49m\u001b[43m,\u001b[49m\n\u001b[1;32m   1008\u001b[0m \u001b[43m    \u001b[49m\u001b[43mreset\u001b[49m\u001b[38;5;241;43m=\u001b[39;49m\u001b[38;5;28;43;01mFalse\u001b[39;49;00m\u001b[43m,\u001b[49m\n\u001b[1;32m   1009\u001b[0m \u001b[43m    \u001b[49m\u001b[43maccept_sparse\u001b[49m\u001b[38;5;241;43m=\u001b[39;49m\u001b[38;5;124;43m\"\u001b[39;49m\u001b[38;5;124;43mcsr\u001b[39;49m\u001b[38;5;124;43m\"\u001b[39;49m\u001b[43m,\u001b[49m\n\u001b[1;32m   1010\u001b[0m \u001b[43m    \u001b[49m\u001b[43mcopy\u001b[49m\u001b[38;5;241;43m=\u001b[39;49m\u001b[43mcopy\u001b[49m\u001b[43m,\u001b[49m\n\u001b[1;32m   1011\u001b[0m \u001b[43m    \u001b[49m\u001b[43mdtype\u001b[49m\u001b[38;5;241;43m=\u001b[39;49m\u001b[43mFLOAT_DTYPES\u001b[49m\u001b[43m,\u001b[49m\n\u001b[1;32m   1012\u001b[0m \u001b[43m    \u001b[49m\u001b[43mforce_all_finite\u001b[49m\u001b[38;5;241;43m=\u001b[39;49m\u001b[38;5;124;43m\"\u001b[39;49m\u001b[38;5;124;43mallow-nan\u001b[39;49m\u001b[38;5;124;43m\"\u001b[39;49m\u001b[43m,\u001b[49m\n\u001b[1;32m   1013\u001b[0m \u001b[43m\u001b[49m\u001b[43m)\u001b[49m\n\u001b[1;32m   1015\u001b[0m \u001b[38;5;28;01mif\u001b[39;00m sparse\u001b[38;5;241m.\u001b[39missparse(X):\n\u001b[1;32m   1016\u001b[0m     \u001b[38;5;28;01mif\u001b[39;00m \u001b[38;5;28mself\u001b[39m\u001b[38;5;241m.\u001b[39mwith_mean:\n",
      "File \u001b[0;32m~/.local/lib/python3.10/site-packages/sklearn/base.py:605\u001b[0m, in \u001b[0;36mBaseEstimator._validate_data\u001b[0;34m(self, X, y, reset, validate_separately, cast_to_ndarray, **check_params)\u001b[0m\n\u001b[1;32m    603\u001b[0m         out \u001b[38;5;241m=\u001b[39m X, y\n\u001b[1;32m    604\u001b[0m \u001b[38;5;28;01melif\u001b[39;00m \u001b[38;5;129;01mnot\u001b[39;00m no_val_X \u001b[38;5;129;01mand\u001b[39;00m no_val_y:\n\u001b[0;32m--> 605\u001b[0m     out \u001b[38;5;241m=\u001b[39m \u001b[43mcheck_array\u001b[49m\u001b[43m(\u001b[49m\u001b[43mX\u001b[49m\u001b[43m,\u001b[49m\u001b[43m \u001b[49m\u001b[43minput_name\u001b[49m\u001b[38;5;241;43m=\u001b[39;49m\u001b[38;5;124;43m\"\u001b[39;49m\u001b[38;5;124;43mX\u001b[39;49m\u001b[38;5;124;43m\"\u001b[39;49m\u001b[43m,\u001b[49m\u001b[43m \u001b[49m\u001b[38;5;241;43m*\u001b[39;49m\u001b[38;5;241;43m*\u001b[39;49m\u001b[43mcheck_params\u001b[49m\u001b[43m)\u001b[49m\n\u001b[1;32m    606\u001b[0m \u001b[38;5;28;01melif\u001b[39;00m no_val_X \u001b[38;5;129;01mand\u001b[39;00m \u001b[38;5;129;01mnot\u001b[39;00m no_val_y:\n\u001b[1;32m    607\u001b[0m     out \u001b[38;5;241m=\u001b[39m _check_y(y, \u001b[38;5;241m*\u001b[39m\u001b[38;5;241m*\u001b[39mcheck_params)\n",
      "File \u001b[0;32m~/.local/lib/python3.10/site-packages/sklearn/utils/validation.py:938\u001b[0m, in \u001b[0;36mcheck_array\u001b[0;34m(array, accept_sparse, accept_large_sparse, dtype, order, copy, force_all_finite, ensure_2d, allow_nd, ensure_min_samples, ensure_min_features, estimator, input_name)\u001b[0m\n\u001b[1;32m    936\u001b[0m     \u001b[38;5;66;03m# If input is 1D raise error\u001b[39;00m\n\u001b[1;32m    937\u001b[0m     \u001b[38;5;28;01mif\u001b[39;00m array\u001b[38;5;241m.\u001b[39mndim \u001b[38;5;241m==\u001b[39m \u001b[38;5;241m1\u001b[39m:\n\u001b[0;32m--> 938\u001b[0m         \u001b[38;5;28;01mraise\u001b[39;00m \u001b[38;5;167;01mValueError\u001b[39;00m(\n\u001b[1;32m    939\u001b[0m             \u001b[38;5;124m\"\u001b[39m\u001b[38;5;124mExpected 2D array, got 1D array instead:\u001b[39m\u001b[38;5;130;01m\\n\u001b[39;00m\u001b[38;5;124marray=\u001b[39m\u001b[38;5;132;01m{}\u001b[39;00m\u001b[38;5;124m.\u001b[39m\u001b[38;5;130;01m\\n\u001b[39;00m\u001b[38;5;124m\"\u001b[39m\n\u001b[1;32m    940\u001b[0m             \u001b[38;5;124m\"\u001b[39m\u001b[38;5;124mReshape your data either using array.reshape(-1, 1) if \u001b[39m\u001b[38;5;124m\"\u001b[39m\n\u001b[1;32m    941\u001b[0m             \u001b[38;5;124m\"\u001b[39m\u001b[38;5;124myour data has a single feature or array.reshape(1, -1) \u001b[39m\u001b[38;5;124m\"\u001b[39m\n\u001b[1;32m    942\u001b[0m             \u001b[38;5;124m\"\u001b[39m\u001b[38;5;124mif it contains a single sample.\u001b[39m\u001b[38;5;124m\"\u001b[39m\u001b[38;5;241m.\u001b[39mformat(array)\n\u001b[1;32m    943\u001b[0m         )\n\u001b[1;32m    945\u001b[0m \u001b[38;5;28;01mif\u001b[39;00m dtype_numeric \u001b[38;5;129;01mand\u001b[39;00m \u001b[38;5;28mhasattr\u001b[39m(array\u001b[38;5;241m.\u001b[39mdtype, \u001b[38;5;124m\"\u001b[39m\u001b[38;5;124mkind\u001b[39m\u001b[38;5;124m\"\u001b[39m) \u001b[38;5;129;01mand\u001b[39;00m array\u001b[38;5;241m.\u001b[39mdtype\u001b[38;5;241m.\u001b[39mkind \u001b[38;5;129;01min\u001b[39;00m \u001b[38;5;124m\"\u001b[39m\u001b[38;5;124mUSV\u001b[39m\u001b[38;5;124m\"\u001b[39m:\n\u001b[1;32m    946\u001b[0m     \u001b[38;5;28;01mraise\u001b[39;00m \u001b[38;5;167;01mValueError\u001b[39;00m(\n\u001b[1;32m    947\u001b[0m         \u001b[38;5;124m\"\u001b[39m\u001b[38;5;124mdtype=\u001b[39m\u001b[38;5;124m'\u001b[39m\u001b[38;5;124mnumeric\u001b[39m\u001b[38;5;124m'\u001b[39m\u001b[38;5;124m is not compatible with arrays of bytes/strings.\u001b[39m\u001b[38;5;124m\"\u001b[39m\n\u001b[1;32m    948\u001b[0m         \u001b[38;5;124m\"\u001b[39m\u001b[38;5;124mConvert your data to numeric values explicitly instead.\u001b[39m\u001b[38;5;124m\"\u001b[39m\n\u001b[1;32m    949\u001b[0m     )\n",
      "\u001b[0;31mValueError\u001b[0m: Expected 2D array, got 1D array instead:\narray=[2. 1. 2. 3. 3. 4. 2. 4. 1. 1. 4. 1. 2. 4. 4. 1. 2. 2. 2. 1. 0. 2. 3. 2.\n 0. 3. 0. 2. 1. 0. 2. 2. 1. 1. 0. 4. 3. 2. 0. 3. 4. 3. 0. 2. 4. 4. 3. 0.\n 4. 3. 0. 2. 3. 4. 4. 4. 2. 2. 4. 2. 4. 1. 2. 3. 2. 4. 1. 4. 4. 1. 3. 2.\n 4. 0. 3. 2. 2. 2. 0. 2. 3. 3. 1. 2. 0. 2. 2. 3. 1. 4. 4. 3. 3. 0. 3. 2.\n 0. 3. 4. 1. 3. 3. 1. 0. 0. 4. 3. 2. 1. 3. 3. 0. 2. 1. 2. 0. 0. 4. 1. 4.\n 2. 2. 3. 0. 4. 3. 4. 0. 4. 4. 0. 4. 0. 4. 0. 3. 3. 0. 0. 0. 4. 4. 3. 2.\n 2. 2. 0. 1. 0. 3. 0. 1. 2. 0. 2. 4. 0. 0. 1. 0. 3. 0. 0. 2. 1. 3. 2. 0.\n 0. 1. 2. 0. 1. 2. 4. 4. 3. 4. 0. 1. 2. 4. 0. 0. 2. 1. 4. 4. 1. 0. 3. 4.\n 0. 2. 2. 0. 0. 0. 0. 4. 3. 4. 4. 4. 1. 4. 1. 3. 1. 0. 3. 1. 4. 4. 4. 1.\n 3. 3. 0. 2. 2. 4. 1. 3. 3. 1. 4. 0. 2. 1. 1. 0. 4. 4. 3. 4. 4. 3. 0. 4.\n 4. 0. 3. 3. 3. 3. 4. 0. 1. 4. 2. 4. 0. 0. 3. 3. 1. 1. 1. 4. 4. 4. 0. 2.\n 4. 2. 3. 1. 2. 3. 1. 3. 3. 2. 1. 3. 2. 0. 0. 3. 2. 4. 2. 0. 3. 0. 0. 4.\n 0. 0. 0. 0. 1. 1. 1. 3. 1. 4. 3. 4. 0. 4. 2. 2. 0. 1. 3. 3. 4. 2. 4. 4.\n 1. 4. 4. 0. 0. 3. 2. 4. 1. 3. 3. 2. 1. 1. 1. 0. 1. 4. 2. 0. 0. 2. 4. 2.\n 0. 1. 0. 2. 3. 2. 2. 2. 1. 3. 2. 2. 4. 2. 3. 4. 3. 3. 4. 1. 0. 2. 3. 1.\n 3. 3. 4. 1. 4. 1. 0. 3. 0. 4. 1. 0. 2. 3. 0. 3. 0. 2. 1. 2. 4. 1. 3. 1.\n 3. 4. 0. 3. 0. 3. 3. 0. 4. 0. 3. 3. 3. 2. 4. 2. 2. 2. 3. 0. 1. 3. 2. 1.\n 1. 2. 4. 4. 4. 4. 2. 4. 3. 4. 0. 1. 2. 4. 4. 3. 0. 2. 1. 3. 2. 0. 4. 1.\n 3. 3. 2. 1. 0. 2. 2. 4. 4. 3. 1. 2. 1. 3. 3. 1. 3. 1. 0. 4. 3. 0. 3. 3.\n 0. 4. 4. 3. 2. 4. 3. 0. 3. 2. 3. 2. 4. 1. 3. 0. 1. 3. 3. 4. 0. 1. 2. 4.\n 3. 2. 2. 2. 3. 2. 1. 0. 1. 4. 1. 0. 1. 2. 2. 0. 0. 0. 4. 2. 2. 1. 2. 4.\n 4. 1. 3. 2. 0. 1. 3. 2. 0. 4. 4. 3. 3. 1. 4. 3. 0. 2. 2. 2. 4. 0. 4. 4.\n 2. 2. 3. 2. 0. 2. 2. 3. 2. 2. 4. 4. 0. 4. 4. 1. 3. 1. 3. 3. 4. 2. 2. 2.\n 2. 4. 3. 2. 0. 2. 4. 3. 3. 2. 1. 0. 3. 0. 3. 2. 0. 0. 3. 4. 4. 2. 1. 1.\n 4. 0. 4. 1. 2. 3. 3. 0. 3. 0. 2. 4. 0. 4. 4. 2. 1. 2. 3. 4. 1. 0. 3. 3.\n 0. 4. 0. 3. 1. 3. 1. 2. 2. 4. 2. 2. 1. 1. 0. 4. 4. 0. 0. 4. 0. 3. 3. 0.\n 3. 2. 2. 0. 3. 0. 2. 2. 1. 2. 2. 3. 2. 4. 3. 3. 1. 0. 0. 4. 1. 2. 0. 0.\n 3. 3. 0. 0. 3. 4. 4. 1. 2. 2. 4. 0. 1. 2. 1. 0. 3. 3. 0. 3. 3. 1. 0. 0.\n 1. 2. 2. 0. 2. 3. 2. 3. 4. 4. 3. 4. 4. 2. 0. 1. 2. 2. 3. 1. 1. 4. 0. 1.\n 4. 2. 2. 3.].\nReshape your data either using array.reshape(-1, 1) if your data has a single feature or array.reshape(1, -1) if it contains a single sample."
     ]
    }
   ],
   "source": [
    "# from tensorflow.keras.models import Sequential\n",
    "# from tensorflow.keras.layers import Dense, Dropout\n",
    "# from tensorflow.keras.optimizers import Adam\n",
    "# from sklearn.preprocessing import StandardScaler\n",
    "# from sklearn.model_selection import train_test_split\n",
    "# from sklearn.pipeline import Pipeline\n",
    "# import numpy as np\n",
    "\n",
    "# # Generate random input data (features)\n",
    "# samples = 1000\n",
    "# input_shape = 10  # Number of features\n",
    "# X = np.random.rand(samples, input_shape)  # Replace with your actual data\n",
    "\n",
    "# # Generate random labels (output/target)\n",
    "# num_classes = 5  # Number of classes or categories\n",
    "# y = np.random.randint(num_classes, size=(samples,))\n",
    "\n",
    "# # Check the shape of the generated tensors\n",
    "# print(f\"Input shape: {X_train.shape}\")\n",
    "# print(f\"Output shape: {y_train.shape}\")\n",
    "\n",
    "# X_train, y_train, X_test, y_test = train_test_split(X, y, random_state= 42, test_size= 0.3)\n",
    "\n",
    "\n",
    "# # Define the data preprocessing steps\n",
    "# preprocessor = Pipeline([\n",
    "#     ('scaler', StandardScaler()),\n",
    "#     # Add more preprocessing steps if needed\n",
    "# ])\n",
    "\n",
    "# # Define the neural network model\n",
    "# model = Sequential([\n",
    "#     Dense(64, activation='relu', input_shape=(1000,)),\n",
    "#     Dropout(0.2),\n",
    "#     Dense(32, activation='relu'),\n",
    "#     Dropout(0.2),\n",
    "#     Dense(10, activation='softmax')\n",
    "# ])\n",
    "\n",
    "# # Compile the model\n",
    "# model.compile(optimizer=Adam(), loss='categorical_crossentropy', metrics=['accuracy'])\n",
    "\n",
    "# # Fit the data after preprocessing\n",
    "# X_train_processed = preprocessor.fit_transform(X_train)\n",
    "# X_val_processed = preprocessor.transform(X_test).reshape(-1, 1)\n",
    "\n",
    "# model.fit( X_train_processed, y_train, epochs=10, batch_size=32, validation_data=(X_val_processed, y_test))\n"
   ]
  },
  {
   "cell_type": "code",
   "execution_count": null,
   "metadata": {},
   "outputs": [],
   "source": []
  }
 ],
 "metadata": {
  "language_info": {
   "name": "python"
  }
 },
 "nbformat": 4,
 "nbformat_minor": 2
}
